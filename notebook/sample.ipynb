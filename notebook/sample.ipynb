{
 "cells": [
  {
   "cell_type": "code",
   "execution_count": 1,
   "metadata": {},
   "outputs": [],
   "source": [
    "import pandas as pd\n",
    "import numpy as np\n",
    "import matplotlib.pyplot as plt\n",
    "import seaborn as sns\n",
    "import plotly.express as px\n",
    "import warnings\n",
    "\n",
    "warnings.filterwarnings(\"ignore\")\n",
    "\n",
    "%matplotlib inline"
   ]
  },
  {
   "cell_type": "code",
   "execution_count": 2,
   "metadata": {},
   "outputs": [],
   "source": [
    "df=pd.read_excel(\"porosity_file.xlsx\")"
   ]
  },
  {
   "cell_type": "code",
   "execution_count": 3,
   "metadata": {},
   "outputs": [
    {
     "data": {
      "text/html": [
       "<div>\n",
       "<style scoped>\n",
       "    .dataframe tbody tr th:only-of-type {\n",
       "        vertical-align: middle;\n",
       "    }\n",
       "\n",
       "    .dataframe tbody tr th {\n",
       "        vertical-align: top;\n",
       "    }\n",
       "\n",
       "    .dataframe thead th {\n",
       "        text-align: right;\n",
       "    }\n",
       "</style>\n",
       "<table border=\"1\" class=\"dataframe\">\n",
       "  <thead>\n",
       "    <tr style=\"text-align: right;\">\n",
       "      <th></th>\n",
       "      <th>IMAGE DERIVED DENSITY</th>\n",
       "      <th>BEST CALIPER,AVERAGE DIAMETER</th>\n",
       "      <th>IMAGE DERIVED PHOTOELECTRIC FACTOR</th>\n",
       "      <th>BEST THERMAL POROSITY</th>\n",
       "      <th>RESISTIVITY OF WATER FILLED FORMATION</th>\n",
       "      <th>RELATIVE PERMEABILITY TO HYDROCARBON</th>\n",
       "      <th>RELATIVE PERMEABILITY TO WATER</th>\n",
       "      <th>WATER CUT</th>\n",
       "      <th>MATRIX BULK DENSITY FROM ELEMENTAL CONCENTRATIONS</th>\n",
       "      <th></th>\n",
       "      <th>.1</th>\n",
       "      <th>TOTAL POROSITY</th>\n",
       "    </tr>\n",
       "  </thead>\n",
       "  <tbody>\n",
       "    <tr>\n",
       "      <th>0</th>\n",
       "      <td>2.5059</td>\n",
       "      <td>10.6431</td>\n",
       "      <td>18.4555</td>\n",
       "      <td>0.1919</td>\n",
       "      <td>3.8568</td>\n",
       "      <td>0.0</td>\n",
       "      <td>1.0</td>\n",
       "      <td>1.0</td>\n",
       "      <td>0</td>\n",
       "      <td>NaN</td>\n",
       "      <td>NaN</td>\n",
       "      <td>0.1300</td>\n",
       "    </tr>\n",
       "    <tr>\n",
       "      <th>1</th>\n",
       "      <td>2.5460</td>\n",
       "      <td>10.7011</td>\n",
       "      <td>18.8648</td>\n",
       "      <td>0.1862</td>\n",
       "      <td>4.9163</td>\n",
       "      <td>0.0</td>\n",
       "      <td>1.0</td>\n",
       "      <td>1.0</td>\n",
       "      <td>0</td>\n",
       "      <td>NaN</td>\n",
       "      <td>NaN</td>\n",
       "      <td>0.1111</td>\n",
       "    </tr>\n",
       "    <tr>\n",
       "      <th>2</th>\n",
       "      <td>2.5642</td>\n",
       "      <td>10.7012</td>\n",
       "      <td>19.3160</td>\n",
       "      <td>0.1830</td>\n",
       "      <td>5.7882</td>\n",
       "      <td>0.0</td>\n",
       "      <td>1.0</td>\n",
       "      <td>1.0</td>\n",
       "      <td>0</td>\n",
       "      <td>NaN</td>\n",
       "      <td>NaN</td>\n",
       "      <td>0.1015</td>\n",
       "    </tr>\n",
       "    <tr>\n",
       "      <th>3</th>\n",
       "      <td>2.5808</td>\n",
       "      <td>10.6773</td>\n",
       "      <td>19.6845</td>\n",
       "      <td>0.1739</td>\n",
       "      <td>6.8120</td>\n",
       "      <td>0.0</td>\n",
       "      <td>1.0</td>\n",
       "      <td>1.0</td>\n",
       "      <td>0</td>\n",
       "      <td>NaN</td>\n",
       "      <td>NaN</td>\n",
       "      <td>0.0927</td>\n",
       "    </tr>\n",
       "    <tr>\n",
       "      <th>4</th>\n",
       "      <td>2.5632</td>\n",
       "      <td>10.6162</td>\n",
       "      <td>19.4390</td>\n",
       "      <td>0.1547</td>\n",
       "      <td>5.4189</td>\n",
       "      <td>0.0</td>\n",
       "      <td>1.0</td>\n",
       "      <td>1.0</td>\n",
       "      <td>0</td>\n",
       "      <td>NaN</td>\n",
       "      <td>NaN</td>\n",
       "      <td>0.1053</td>\n",
       "    </tr>\n",
       "  </tbody>\n",
       "</table>\n",
       "</div>"
      ],
      "text/plain": [
       "   IMAGE DERIVED DENSITY  BEST CALIPER,AVERAGE DIAMETER  \\\n",
       "0                 2.5059                        10.6431   \n",
       "1                 2.5460                        10.7011   \n",
       "2                 2.5642                        10.7012   \n",
       "3                 2.5808                        10.6773   \n",
       "4                 2.5632                        10.6162   \n",
       "\n",
       "   IMAGE DERIVED PHOTOELECTRIC FACTOR  BEST THERMAL POROSITY  \\\n",
       "0                             18.4555                 0.1919   \n",
       "1                             18.8648                 0.1862   \n",
       "2                             19.3160                 0.1830   \n",
       "3                             19.6845                 0.1739   \n",
       "4                             19.4390                 0.1547   \n",
       "\n",
       "   RESISTIVITY OF WATER FILLED FORMATION  \\\n",
       "0                                 3.8568   \n",
       "1                                 4.9163   \n",
       "2                                 5.7882   \n",
       "3                                 6.8120   \n",
       "4                                 5.4189   \n",
       "\n",
       "   RELATIVE PERMEABILITY TO HYDROCARBON  RELATIVE PERMEABILITY TO WATER  \\\n",
       "0                                   0.0                             1.0   \n",
       "1                                   0.0                             1.0   \n",
       "2                                   0.0                             1.0   \n",
       "3                                   0.0                             1.0   \n",
       "4                                   0.0                             1.0   \n",
       "\n",
       "   WATER CUT  MATRIX BULK DENSITY FROM ELEMENTAL CONCENTRATIONS       .1  \\\n",
       "0        1.0                                                  0 NaN  NaN   \n",
       "1        1.0                                                  0 NaN  NaN   \n",
       "2        1.0                                                  0 NaN  NaN   \n",
       "3        1.0                                                  0 NaN  NaN   \n",
       "4        1.0                                                  0 NaN  NaN   \n",
       "\n",
       "   TOTAL POROSITY  \n",
       "0          0.1300  \n",
       "1          0.1111  \n",
       "2          0.1015  \n",
       "3          0.0927  \n",
       "4          0.1053  "
      ]
     },
     "execution_count": 3,
     "metadata": {},
     "output_type": "execute_result"
    }
   ],
   "source": [
    "df.head()"
   ]
  },
  {
   "cell_type": "code",
   "execution_count": null,
   "metadata": {},
   "outputs": [
    {
     "data": {
      "text/plain": [
       "(1318, 12)"
      ]
     },
     "execution_count": 4,
     "metadata": {},
     "output_type": "execute_result"
    }
   ],
   "source": []
  },
  {
   "cell_type": "code",
   "execution_count": null,
   "metadata": {},
   "outputs": [],
   "source": []
  },
  {
   "cell_type": "code",
   "execution_count": null,
   "metadata": {},
   "outputs": [
    {
     "data": {
      "text/plain": [
       "(1318, 12)"
      ]
     },
     "execution_count": 6,
     "metadata": {},
     "output_type": "execute_result"
    }
   ],
   "source": []
  },
  {
   "cell_type": "code",
   "execution_count": null,
   "metadata": {},
   "outputs": [],
   "source": []
  }
 ],
 "metadata": {
  "kernelspec": {
   "display_name": "porosity",
   "language": "python",
   "name": "python3"
  },
  "language_info": {
   "codemirror_mode": {
    "name": "ipython",
    "version": 3
   },
   "file_extension": ".py",
   "mimetype": "text/x-python",
   "name": "python",
   "nbconvert_exporter": "python",
   "pygments_lexer": "ipython3",
   "version": "3.8.20"
  }
 },
 "nbformat": 4,
 "nbformat_minor": 2
}
